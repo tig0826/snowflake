{
 "cells": [
  {
   "cell_type": "code",
   "execution_count": 47,
   "id": "98bc0ed0",
   "metadata": {},
   "outputs": [],
   "source": [
    "from snowflake.snowpark.session import Session\n",
    "from snowflake.snowpark.functions import avg, sum, col, lit\n",
    "import streamlit as st\n",
    "import pandas as pd"
   ]
  },
  {
   "cell_type": "code",
   "execution_count": 62,
   "id": "e1c1120b",
   "metadata": {},
   "outputs": [],
   "source": [
    "st.set_page_config(\n",
    "     page_title=\"Environment Data Atlas\",\n",
    "     page_icon=\"🧊\",\n",
    "     layout=\"wide\",\n",
    "     initial_sidebar_state=\"expanded\",\n",
    "     menu_items={\n",
    "         'Get Help': 'https://developers.snowflake.com',\n",
    "         'About': \"This is an *extremely* cool app powered by Snowpark for Python, Streamlit, and Snowflake Data Marketplace\"\n",
    "     }\n",
    ")"
   ]
  },
  {
   "cell_type": "code",
   "execution_count": 63,
   "id": "830cbfc5",
   "metadata": {},
   "outputs": [],
   "source": [
    "# Create Session object\n",
    "def create_session_object():\n",
    "    connection_parameters = {\n",
    "        \"account\": \"***********\",\n",
    "        \"user\": \"tig\",\n",
    "        \"password\": \"*********\",\n",
    "        \"role\": \"ACCOUNTADMIN\",\n",
    "        \"warehouse\": \"COMPUTE_WH\",\n",
    "        \"database\": \"ENVIRONMENT_DATA_ATLAS\",\n",
    "        \"schema\": \"ENVIRONMENT\"\n",
    "    }\n",
    "    session = Session.builder.configs(connection_parameters).create()\n",
    "    print(session.sql('select current_warehouse(), current_database(), current_schema()').collect())\n",
    "    return session"
   ]
  },
  {
   "cell_type": "code",
   "execution_count": 64,
   "id": "6f6dbbe0",
   "metadata": {},
   "outputs": [
    {
     "data": {
      "text/plain": [
       "DeltaGenerator()"
      ]
     },
     "execution_count": 64,
     "metadata": {},
     "output_type": "execute_result"
    }
   ],
   "source": [
    "# Add header and a subheader\n",
    "st.header(\"Knoema: Environment Data Atlas\")\n",
    "st.subheader(\"Powered by Snowpark for Python and Snowflake Data Marketplace | Made with Streamlit\")"
   ]
  },
  {
   "cell_type": "code",
   "execution_count": 83,
   "id": "92869f63",
   "metadata": {},
   "outputs": [],
   "source": [
    "# Create Snowpark DataFrames that loads data from Knoema: Environmental Data Atlas\n",
    "def load_data(session):\n",
    "    # CO2 Emissions by Country\n",
    "    snow_df_co2 = session.table(\"ENVIRONMENT.DATA_ATLAS\").filter(col('Indicator') == 'Fossil CO2 Emissions').filter(col('Type Name') == 'All Type')\n",
    "    snow_df_co2 = snow_df_co2.group_by('Location Name').agg(sum('$16').alias(\"Total CO2 Emissions\")).filter(col('Location Name') != 'World').sort('Location Name')\n",
    "    \n",
    "    # Forest Occupied Land Area by Country\n",
    "    snow_df_land = session.table(\"ENVIRONMENT.DATA_ATLAS\").filter(col('Series Name') == 'Forest area (% of land area)')\n",
    "    snow_df_land = snow_df_land.group_by('Country Name').agg(sum('$61').alias(\"Total Share of Forest Land\")).sort('Country Name')\n",
    "    \n",
    "    # Total Municipal Waste by Country\n",
    "    snow_df_waste = session.table(\"ENVIRONMENT.DATA_ATLAS\").filter(col('Variable Name') == 'Municipal waste collected')\n",
    "    snow_df_waste = snow_df_waste.group_by('Location Name').agg(sum('$12').alias(\"Total Municipal Waste\")).sort('Location Name')\n",
    "    \n",
    "    # Convert Snowpark DataFrames to Pandas DataFrames for Streamlit\n",
    "    pd_df_co2  = snow_df_co2.to_pandas()\n",
    "    pd_df_land = snow_df_land.to_pandas() \n",
    "    pd_df_waste = snow_df_waste.to_pandas()\n",
    "    \n",
    "    # Use columns to display the three dataframes side-by-side along with their headers\n",
    "    col1, col2, col3 = st.columns(3)\n",
    "    with st.container():\n",
    "        with col1:\n",
    "            st.subheader('CO2 Emissions by Country')\n",
    "            st.dataframe(pd_df_co2)\n",
    "        with col2:\n",
    "            st.subheader('Forest Occupied Land Area by Country')\n",
    "            st.dataframe(pd_df_land)\n",
    "        with col3:\n",
    "            st.subheader('Total Municipal Waste by Country')\n",
    "            st.dataframe(pd_df_waste)\n",
    "    \n",
    "    # Display an interactive chart to visualize CO2 Emissions by Top N Countries\n",
    "    with st.container():\n",
    "        st.subheader('CO2 Emissions by Top N Countries')\n",
    "        with st.expander(\"\"):\n",
    "            emissions_threshold = st.slider(label='Emissions Threshold',min_value=5000, value=20000, step=5000)\n",
    "            pd_df_co2_top_n = snow_df_co2.filter(col('Total CO2 Emissions') > emissions_threshold).to_pandas()\n",
    "            st.bar_chart(data=pd_df_co2_top_n.set_index('Location Name'), width=850, height=500, use_container_width=True)"
   ]
  },
  {
   "cell_type": "code",
   "execution_count": 84,
   "id": "79465395",
   "metadata": {
    "scrolled": true
   },
   "outputs": [
    {
     "name": "stdout",
     "output_type": "stream",
     "text": [
      "[Row(CURRENT_WAREHOUSE()='COMPUTE_WH', CURRENT_DATABASE()='ENVIRONMENT_DATA_ATLAS', CURRENT_SCHEMA()='ENVIRONMENT')]\n"
     ]
    },
    {
     "ename": "SnowparkColumnException",
     "evalue": "(1105): The DataFrame does not contain the column named Location Name.",
     "output_type": "error",
     "traceback": [
      "\u001b[0;31m---------------------------------------------------------------------------\u001b[0m",
      "\u001b[0;31mSnowparkColumnException\u001b[0m                   Traceback (most recent call last)",
      "Cell \u001b[0;32mIn[84], line 3\u001b[0m\n\u001b[1;32m      1\u001b[0m \u001b[38;5;28;01mif\u001b[39;00m \u001b[38;5;18m__name__\u001b[39m \u001b[38;5;241m==\u001b[39m \u001b[38;5;124m\"\u001b[39m\u001b[38;5;124m__main__\u001b[39m\u001b[38;5;124m\"\u001b[39m:\n\u001b[1;32m      2\u001b[0m     session \u001b[38;5;241m=\u001b[39m create_session_object()\n\u001b[0;32m----> 3\u001b[0m     \u001b[43mload_data\u001b[49m\u001b[43m(\u001b[49m\u001b[43msession\u001b[49m\u001b[43m)\u001b[49m\n",
      "Cell \u001b[0;32mIn[83], line 5\u001b[0m, in \u001b[0;36mload_data\u001b[0;34m(session)\u001b[0m\n\u001b[1;32m      2\u001b[0m \u001b[38;5;28;01mdef\u001b[39;00m \u001b[38;5;21mload_data\u001b[39m(session):\n\u001b[1;32m      3\u001b[0m     \u001b[38;5;66;03m# CO2 Emissions by Country\u001b[39;00m\n\u001b[1;32m      4\u001b[0m     snow_df_co2 \u001b[38;5;241m=\u001b[39m session\u001b[38;5;241m.\u001b[39mtable(\u001b[38;5;124m\"\u001b[39m\u001b[38;5;124mENVIRONMENT.DATA_ATLAS\u001b[39m\u001b[38;5;124m\"\u001b[39m)\u001b[38;5;241m.\u001b[39mfilter(col(\u001b[38;5;124m'\u001b[39m\u001b[38;5;124mIndicator\u001b[39m\u001b[38;5;124m'\u001b[39m) \u001b[38;5;241m==\u001b[39m \u001b[38;5;124m'\u001b[39m\u001b[38;5;124mFossil CO2 Emissions\u001b[39m\u001b[38;5;124m'\u001b[39m)\u001b[38;5;241m.\u001b[39mfilter(col(\u001b[38;5;124m'\u001b[39m\u001b[38;5;124mType Name\u001b[39m\u001b[38;5;124m'\u001b[39m) \u001b[38;5;241m==\u001b[39m \u001b[38;5;124m'\u001b[39m\u001b[38;5;124mAll Type\u001b[39m\u001b[38;5;124m'\u001b[39m)\n\u001b[0;32m----> 5\u001b[0m     snow_df_co2 \u001b[38;5;241m=\u001b[39m \u001b[43msnow_df_co2\u001b[49m\u001b[38;5;241;43m.\u001b[39;49m\u001b[43mgroup_by\u001b[49m\u001b[43m(\u001b[49m\u001b[38;5;124;43m'\u001b[39;49m\u001b[38;5;124;43mLocation Name\u001b[39;49m\u001b[38;5;124;43m'\u001b[39;49m\u001b[43m)\u001b[49m\u001b[38;5;241m.\u001b[39magg(\u001b[38;5;28msum\u001b[39m(\u001b[38;5;124m'\u001b[39m\u001b[38;5;124m$16\u001b[39m\u001b[38;5;124m'\u001b[39m)\u001b[38;5;241m.\u001b[39malias(\u001b[38;5;124m\"\u001b[39m\u001b[38;5;124mTotal CO2 Emissions\u001b[39m\u001b[38;5;124m\"\u001b[39m))\u001b[38;5;241m.\u001b[39mfilter(col(\u001b[38;5;124m'\u001b[39m\u001b[38;5;124mLocation Name\u001b[39m\u001b[38;5;124m'\u001b[39m) \u001b[38;5;241m!=\u001b[39m \u001b[38;5;124m'\u001b[39m\u001b[38;5;124mWorld\u001b[39m\u001b[38;5;124m'\u001b[39m)\u001b[38;5;241m.\u001b[39msort(\u001b[38;5;124m'\u001b[39m\u001b[38;5;124mLocation Name\u001b[39m\u001b[38;5;124m'\u001b[39m)\n\u001b[1;32m      7\u001b[0m     \u001b[38;5;66;03m# Forest Occupied Land Area by Country\u001b[39;00m\n\u001b[1;32m      8\u001b[0m     snow_df_land \u001b[38;5;241m=\u001b[39m session\u001b[38;5;241m.\u001b[39mtable(\u001b[38;5;124m\"\u001b[39m\u001b[38;5;124mENVIRONMENT.DATA_ATLAS\u001b[39m\u001b[38;5;124m\"\u001b[39m)\u001b[38;5;241m.\u001b[39mfilter(col(\u001b[38;5;124m'\u001b[39m\u001b[38;5;124mSeries Name\u001b[39m\u001b[38;5;124m'\u001b[39m) \u001b[38;5;241m==\u001b[39m \u001b[38;5;124m'\u001b[39m\u001b[38;5;124mForest area (\u001b[39m\u001b[38;5;132;01m% o\u001b[39;00m\u001b[38;5;124mf land area)\u001b[39m\u001b[38;5;124m'\u001b[39m)\n",
      "File \u001b[0;32m~/Library/Caches/pypoetry/virtualenvs/snowflake-i893lo-K-py3.10/lib/python3.10/site-packages/snowflake/snowpark/_internal/telemetry.py:214\u001b[0m, in \u001b[0;36mdf_to_relational_group_df_api_usage.<locals>.wrap\u001b[0;34m(*args, **kwargs)\u001b[0m\n\u001b[1;32m    212\u001b[0m \u001b[38;5;129m@functools\u001b[39m\u001b[38;5;241m.\u001b[39mwraps(func)\n\u001b[1;32m    213\u001b[0m \u001b[38;5;28;01mdef\u001b[39;00m \u001b[38;5;21mwrap\u001b[39m(\u001b[38;5;241m*\u001b[39margs, \u001b[38;5;241m*\u001b[39m\u001b[38;5;241m*\u001b[39mkwargs):\n\u001b[0;32m--> 214\u001b[0m     r \u001b[38;5;241m=\u001b[39m \u001b[43mfunc\u001b[49m\u001b[43m(\u001b[49m\u001b[38;5;241;43m*\u001b[39;49m\u001b[43margs\u001b[49m\u001b[43m,\u001b[49m\u001b[43m \u001b[49m\u001b[38;5;241;43m*\u001b[39;49m\u001b[38;5;241;43m*\u001b[39;49m\u001b[43mkwargs\u001b[49m\u001b[43m)\u001b[49m\n\u001b[1;32m    215\u001b[0m     r\u001b[38;5;241m.\u001b[39m_df_api_call \u001b[38;5;241m=\u001b[39m {TelemetryField\u001b[38;5;241m.\u001b[39mNAME\u001b[38;5;241m.\u001b[39mvalue: \u001b[38;5;124mf\u001b[39m\u001b[38;5;124m\"\u001b[39m\u001b[38;5;124mDataFrame.\u001b[39m\u001b[38;5;132;01m{\u001b[39;00mfunc\u001b[38;5;241m.\u001b[39m\u001b[38;5;18m__name__\u001b[39m\u001b[38;5;132;01m}\u001b[39;00m\u001b[38;5;124m\"\u001b[39m}\n\u001b[1;32m    216\u001b[0m     \u001b[38;5;28;01mreturn\u001b[39;00m r\n",
      "File \u001b[0;32m~/Library/Caches/pypoetry/virtualenvs/snowflake-i893lo-K-py3.10/lib/python3.10/site-packages/snowflake/snowpark/dataframe.py:1437\u001b[0m, in \u001b[0;36mDataFrame.group_by\u001b[0;34m(self, *cols)\u001b[0m\n\u001b[1;32m   1398\u001b[0m \u001b[38;5;129m@df_to_relational_group_df_api_usage\u001b[39m\n\u001b[1;32m   1399\u001b[0m \u001b[38;5;28;01mdef\u001b[39;00m \u001b[38;5;21mgroup_by\u001b[39m(\n\u001b[1;32m   1400\u001b[0m     \u001b[38;5;28mself\u001b[39m,\n\u001b[1;32m   1401\u001b[0m     \u001b[38;5;241m*\u001b[39mcols: Union[ColumnOrName, Iterable[ColumnOrName]],\n\u001b[1;32m   1402\u001b[0m ) \u001b[38;5;241m-\u001b[39m\u001b[38;5;241m>\u001b[39m \u001b[38;5;124m\"\u001b[39m\u001b[38;5;124msnowflake.snowpark.RelationalGroupedDataFrame\u001b[39m\u001b[38;5;124m\"\u001b[39m:\n\u001b[1;32m   1403\u001b[0m \u001b[38;5;250m    \u001b[39m\u001b[38;5;124;03m\"\"\"Groups rows by the columns specified by expressions (similar to GROUP BY in\u001b[39;00m\n\u001b[1;32m   1404\u001b[0m \u001b[38;5;124;03m    SQL).\u001b[39;00m\n\u001b[1;32m   1405\u001b[0m \n\u001b[0;32m   (...)\u001b[0m\n\u001b[1;32m   1435\u001b[0m \u001b[38;5;124;03m        [Row(A=1, AVG(B)=Decimal('1.500000')), Row(A=2, AVG(B)=Decimal('1.500000')), Row(A=3, AVG(B)=Decimal('1.500000'))]\u001b[39;00m\n\u001b[1;32m   1436\u001b[0m \u001b[38;5;124;03m    \"\"\"\u001b[39;00m\n\u001b[0;32m-> 1437\u001b[0m     grouping_exprs \u001b[38;5;241m=\u001b[39m \u001b[38;5;28;43mself\u001b[39;49m\u001b[38;5;241;43m.\u001b[39;49m\u001b[43m_convert_cols_to_exprs\u001b[49m\u001b[43m(\u001b[49m\u001b[38;5;124;43m\"\u001b[39;49m\u001b[38;5;124;43mgroup_by()\u001b[39;49m\u001b[38;5;124;43m\"\u001b[39;49m\u001b[43m,\u001b[49m\u001b[43m \u001b[49m\u001b[38;5;241;43m*\u001b[39;49m\u001b[43mcols\u001b[49m\u001b[43m)\u001b[49m\n\u001b[1;32m   1438\u001b[0m     \u001b[38;5;28;01mreturn\u001b[39;00m snowflake\u001b[38;5;241m.\u001b[39msnowpark\u001b[38;5;241m.\u001b[39mRelationalGroupedDataFrame(\n\u001b[1;32m   1439\u001b[0m         \u001b[38;5;28mself\u001b[39m,\n\u001b[1;32m   1440\u001b[0m         grouping_exprs,\n\u001b[1;32m   1441\u001b[0m         snowflake\u001b[38;5;241m.\u001b[39msnowpark\u001b[38;5;241m.\u001b[39mrelational_grouped_dataframe\u001b[38;5;241m.\u001b[39m_GroupByType(),\n\u001b[1;32m   1442\u001b[0m     )\n",
      "File \u001b[0;32m~/Library/Caches/pypoetry/virtualenvs/snowflake-i893lo-K-py3.10/lib/python3.10/site-packages/snowflake/snowpark/dataframe.py:3671\u001b[0m, in \u001b[0;36mDataFrame._convert_cols_to_exprs\u001b[0;34m(self, calling_method, *cols)\u001b[0m\n\u001b[1;32m   3665\u001b[0m     \u001b[38;5;28;01melse\u001b[39;00m:\n\u001b[1;32m   3666\u001b[0m         \u001b[38;5;28;01mraise\u001b[39;00m \u001b[38;5;167;01mTypeError\u001b[39;00m(\n\u001b[1;32m   3667\u001b[0m             \u001b[38;5;124m\"\u001b[39m\u001b[38;5;132;01m{}\u001b[39;00m\u001b[38;5;124m only accepts str and Column objects, or a list containing str and\u001b[39m\u001b[38;5;124m\"\u001b[39m\n\u001b[1;32m   3668\u001b[0m             \u001b[38;5;124m\"\u001b[39m\u001b[38;5;124m Column objects\u001b[39m\u001b[38;5;124m\"\u001b[39m\u001b[38;5;241m.\u001b[39mformat(calling_method)\n\u001b[1;32m   3669\u001b[0m         )\n\u001b[0;32m-> 3671\u001b[0m exprs \u001b[38;5;241m=\u001b[39m [convert(col) \u001b[38;5;28;01mfor\u001b[39;00m col \u001b[38;5;129;01min\u001b[39;00m parse_positional_args_to_list(\u001b[38;5;241m*\u001b[39mcols)]\n\u001b[1;32m   3672\u001b[0m \u001b[38;5;28;01mreturn\u001b[39;00m exprs\n",
      "File \u001b[0;32m~/Library/Caches/pypoetry/virtualenvs/snowflake-i893lo-K-py3.10/lib/python3.10/site-packages/snowflake/snowpark/dataframe.py:3671\u001b[0m, in \u001b[0;36m<listcomp>\u001b[0;34m(.0)\u001b[0m\n\u001b[1;32m   3665\u001b[0m     \u001b[38;5;28;01melse\u001b[39;00m:\n\u001b[1;32m   3666\u001b[0m         \u001b[38;5;28;01mraise\u001b[39;00m \u001b[38;5;167;01mTypeError\u001b[39;00m(\n\u001b[1;32m   3667\u001b[0m             \u001b[38;5;124m\"\u001b[39m\u001b[38;5;132;01m{}\u001b[39;00m\u001b[38;5;124m only accepts str and Column objects, or a list containing str and\u001b[39m\u001b[38;5;124m\"\u001b[39m\n\u001b[1;32m   3668\u001b[0m             \u001b[38;5;124m\"\u001b[39m\u001b[38;5;124m Column objects\u001b[39m\u001b[38;5;124m\"\u001b[39m\u001b[38;5;241m.\u001b[39mformat(calling_method)\n\u001b[1;32m   3669\u001b[0m         )\n\u001b[0;32m-> 3671\u001b[0m exprs \u001b[38;5;241m=\u001b[39m [\u001b[43mconvert\u001b[49m\u001b[43m(\u001b[49m\u001b[43mcol\u001b[49m\u001b[43m)\u001b[49m \u001b[38;5;28;01mfor\u001b[39;00m col \u001b[38;5;129;01min\u001b[39;00m parse_positional_args_to_list(\u001b[38;5;241m*\u001b[39mcols)]\n\u001b[1;32m   3672\u001b[0m \u001b[38;5;28;01mreturn\u001b[39;00m exprs\n",
      "File \u001b[0;32m~/Library/Caches/pypoetry/virtualenvs/snowflake-i893lo-K-py3.10/lib/python3.10/site-packages/snowflake/snowpark/dataframe.py:3662\u001b[0m, in \u001b[0;36mDataFrame._convert_cols_to_exprs.<locals>.convert\u001b[0;34m(col)\u001b[0m\n\u001b[1;32m   3660\u001b[0m \u001b[38;5;28;01mdef\u001b[39;00m \u001b[38;5;21mconvert\u001b[39m(col: ColumnOrName) \u001b[38;5;241m-\u001b[39m\u001b[38;5;241m>\u001b[39m Expression:\n\u001b[1;32m   3661\u001b[0m     \u001b[38;5;28;01mif\u001b[39;00m \u001b[38;5;28misinstance\u001b[39m(col, \u001b[38;5;28mstr\u001b[39m):\n\u001b[0;32m-> 3662\u001b[0m         \u001b[38;5;28;01mreturn\u001b[39;00m \u001b[38;5;28;43mself\u001b[39;49m\u001b[38;5;241;43m.\u001b[39;49m\u001b[43m_resolve\u001b[49m\u001b[43m(\u001b[49m\u001b[43mcol\u001b[49m\u001b[43m)\u001b[49m\n\u001b[1;32m   3663\u001b[0m     \u001b[38;5;28;01melif\u001b[39;00m \u001b[38;5;28misinstance\u001b[39m(col, Column):\n\u001b[1;32m   3664\u001b[0m         \u001b[38;5;28;01mreturn\u001b[39;00m col\u001b[38;5;241m.\u001b[39m_expression\n",
      "File \u001b[0;32m~/Library/Caches/pypoetry/virtualenvs/snowflake-i893lo-K-py3.10/lib/python3.10/site-packages/snowflake/snowpark/dataframe.py:3621\u001b[0m, in \u001b[0;36mDataFrame._resolve\u001b[0;34m(self, col_name)\u001b[0m\n\u001b[1;32m   3619\u001b[0m     \u001b[38;5;28;01mreturn\u001b[39;00m cols[\u001b[38;5;241m0\u001b[39m]\u001b[38;5;241m.\u001b[39mwith_name(normalized_col_name)\n\u001b[1;32m   3620\u001b[0m \u001b[38;5;28;01melse\u001b[39;00m:\n\u001b[0;32m-> 3621\u001b[0m     \u001b[38;5;28;01mraise\u001b[39;00m SnowparkClientExceptionMessages\u001b[38;5;241m.\u001b[39mDF_CANNOT_RESOLVE_COLUMN_NAME(\n\u001b[1;32m   3622\u001b[0m         col_name\n\u001b[1;32m   3623\u001b[0m     )\n",
      "\u001b[0;31mSnowparkColumnException\u001b[0m: (1105): The DataFrame does not contain the column named Location Name."
     ]
    }
   ],
   "source": [
    "if __name__ == \"__main__\":\n",
    "    session = create_session_object()\n",
    "    load_data(session)"
   ]
  },
  {
   "cell_type": "code",
   "execution_count": null,
   "id": "6955eada",
   "metadata": {},
   "outputs": [],
   "source": []
  }
 ],
 "metadata": {
  "kernelspec": {
   "display_name": "Python 3 (ipykernel)",
   "language": "python",
   "name": "python3"
  },
  "language_info": {
   "codemirror_mode": {
    "name": "ipython",
    "version": 3
   },
   "file_extension": ".py",
   "mimetype": "text/x-python",
   "name": "python",
   "nbconvert_exporter": "python",
   "pygments_lexer": "ipython3",
   "version": "3.10.12"
  }
 },
 "nbformat": 4,
 "nbformat_minor": 5
}
